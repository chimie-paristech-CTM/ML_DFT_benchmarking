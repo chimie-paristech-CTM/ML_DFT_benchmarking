{
  "nbformat": 4,
  "nbformat_minor": 0,
  "metadata": {
    "colab": {
      "provenance": []
    },
    "kernelspec": {
      "name": "python3",
      "display_name": "Python 3"
    },
    "language_info": {
      "name": "python"
    }
  },
  "cells": [
    {
      "cell_type": "code",
      "source": [
        "! pip install rdkit"
      ],
      "metadata": {
        "colab": {
          "base_uri": "https://localhost:8080/"
        },
        "id": "f4UrBsDwiI8U",
        "outputId": "858138a4-ca71-4316-d305-51ed466fda26"
      },
      "execution_count": 4,
      "outputs": [
        {
          "output_type": "stream",
          "name": "stdout",
          "text": [
            "Collecting rdkit\n",
            "  Downloading rdkit-2023.9.4-cp310-cp310-manylinux_2_17_x86_64.manylinux2014_x86_64.whl (34.4 MB)\n",
            "\u001b[2K     \u001b[90m━━━━━━━━━━━━━━━━━━━━━━━━━━━━━━━━━━━━━━━━\u001b[0m \u001b[32m34.4/34.4 MB\u001b[0m \u001b[31m33.7 MB/s\u001b[0m eta \u001b[36m0:00:00\u001b[0m\n",
            "\u001b[?25hRequirement already satisfied: numpy in /usr/local/lib/python3.10/dist-packages (from rdkit) (1.23.5)\n",
            "Requirement already satisfied: Pillow in /usr/local/lib/python3.10/dist-packages (from rdkit) (9.4.0)\n",
            "Installing collected packages: rdkit\n",
            "Successfully installed rdkit-2023.9.4\n"
          ]
        }
      ]
    },
    {
      "cell_type": "code",
      "execution_count": 5,
      "metadata": {
        "id": "EDT6U2wyiFuo"
      },
      "outputs": [],
      "source": [
        "import pandas as pd\n",
        "from rdkit import Chem\n",
        "from rdkit.Chem import Draw\n",
        "from itertools import combinations_with_replacement\n",
        "import pandas as pd\n",
        "import random\n",
        "import itertools\n",
        "import re\n",
        "from rdkit.Chem.EnumerateStereoisomers import EnumerateStereoisomers, StereoEnumerationOptions\n",
        "from rdkit.Chem import rdRGroupDecomposition"
      ]
    },
    {
      "cell_type": "code",
      "source": [
        "# substituent list\n",
        "subs_list_LR = ['C', 'F', 'Cl', 'Br', 'C#N', 'C(=O)OC', 'C(=O)C', 'C(=O)NC',\n",
        "                'c1ccccc1', 'OC', 'C(F)(F)F', None]"
      ],
      "metadata": {
        "id": "HIqN78paieee"
      },
      "execution_count": 6,
      "outputs": []
    },
    {
      "cell_type": "code",
      "source": [
        "# auxiliary functions\n",
        "def generate_dipolarophiles(smiles):\n",
        "    mol = Chem.MolFromSmiles(smiles)\n",
        "    return Chem.MolToSmiles(mol)\n",
        "\n",
        "def single_edit_mol(mol, label, subs):\n",
        "    if subs != None:\n",
        "        mod_mol = Chem.ReplaceSubstructs(mol, Chem.MolFromSmiles(label), Chem.MolFromSmiles(subs))[0]\n",
        "    else:\n",
        "        mod_mol = Chem.DeleteSubstructs(mol, Chem.MolFromSmiles(label))\n",
        "    return mod_mol\n",
        "\n",
        "def modify_mol(dipole, subs_comb_LR, labels):\n",
        "    mol = Chem.MolFromSmiles(dipole)\n",
        "    for i, subs in enumerate(subs_comb_LR):\n",
        "        mol = single_edit_mol(mol, labels[i], subs)\n",
        "\n",
        "    return Chem.MolFromSmiles(Chem.MolToSmiles(mol))\n",
        "\n",
        "def unmap_smiles(smiles):\n",
        "    \"\"\"Unmap atoms of SMILES\"\"\"\n",
        "    mol = Chem.MolFromSmiles(smiles)\n",
        "    [atom.SetAtomMapNum(0) for atom in mol.GetAtoms()]\n",
        "\n",
        "    return Chem.MolToSmiles(mol)"
      ],
      "metadata": {
        "id": "qOnd8h6DifE2"
      },
      "execution_count": 58,
      "outputs": []
    },
    {
      "cell_type": "code",
      "source": [
        "# generate all acetylene-based dipolarophiles\n",
        "dipolarophile = 'C(*)#C(*)'\n",
        "labels = ['[Ti]', '[Cr]', '[Mn]', '[Fe]'] # make easy the replacement\n",
        "connectable_substituents = set(['C', 'C(=O)OC', 'C(=O)C', 'C(=O)NC', 'c1ccccc1', 'OC'])\n",
        "generated_full_dipolarophiles = []\n",
        "\n",
        "valency_indices = [valency.start() for valency in re.finditer('\\(\\*\\)', dipolarophile)]\n",
        "for i in range(len(valency_indices)):\n",
        "  dipolarophile = dipolarophile.replace('*', labels[i], 1)\n",
        "substituent_combs = itertools.product(subs_list_LR, repeat = len(valency_indices))\n",
        "for subs_comb in substituent_combs:\n",
        "  generated_full_dipolarophiles.append(modify_mol(dipolarophile, subs_comb, labels))"
      ],
      "metadata": {
        "id": "x62M8XNqipOS"
      },
      "execution_count": 55,
      "outputs": []
    },
    {
      "cell_type": "code",
      "source": [
        "Chem.Draw.MolsToGridImage(\n",
        "    generated_full_dipolarophiles, molsPerRow=10, subImgSize=(250, 250), maxMols=150\n",
        ")"
      ],
      "metadata": {
        "id": "3watn-Wylmt0"
      },
      "execution_count": null,
      "outputs": []
    },
    {
      "cell_type": "code",
      "source": [
        "df = pd.read_csv(\"data_smiles_curated.csv\", sep=';')"
      ],
      "metadata": {
        "id": "Uk6FkuUWlDkN"
      },
      "execution_count": 7,
      "outputs": []
    },
    {
      "cell_type": "code",
      "source": [
        "rxns = df['rxn_smiles'].tolist()\n",
        "subs_list = []\n",
        "for rxn in rxns:\n",
        "  reactants = rxn.split(\">>\")[0].split('.')\n",
        "  for reac in reactants:\n",
        "    mol = Chem.MolFromSmiles(reac)\n",
        "    patt = Chem.MolFromSmarts('C=CC=C')  # diene core\n",
        "    if mol.HasSubstructMatch(patt):\n",
        "      gs, _ = rdRGroupDecomposition.RGroupDecompose([patt], [mol], asSmiles=True)\n",
        "    subs = [unmap_smiles(gs[0][key]) for key in gs[0].keys() if key != 'Core']\n",
        "    subs = list(set(subs))\n",
        "  [subs_list.append(sub) for sub in subs]\n",
        "\n"
      ],
      "metadata": {
        "id": "NS4CQEp8UGlI"
      },
      "execution_count": 77,
      "outputs": []
    },
    {
      "cell_type": "code",
      "source": [
        "list(set(subs_list))"
      ],
      "metadata": {
        "colab": {
          "base_uri": "https://localhost:8080/"
        },
        "id": "ABtTRZoSvxmA",
        "outputId": "14a13b6e-cf48-4b2e-bce2-3f0148527ecc"
      },
      "execution_count": 79,
      "outputs": [
        {
          "output_type": "execute_result",
          "data": {
            "text/plain": [
              "['*C(=N[N+]#N)C(F)=C(*)F',\n",
              " '*CCC*',\n",
              " '*/C=C/C.*Sc1ccccc1',\n",
              " '*CCCC1=CC(=O)CCC1',\n",
              " '*/C(C)=C/C',\n",
              " '*/C=C/C(=O)O[C@H](CC)[C@H](C)/C=C(C)/C=C/[C@H](O)C[C@H](O)C*',\n",
              " '*COB(/C=C/c1ccccc1)OC',\n",
              " '*C(*)=C(C)C',\n",
              " '*CCC[C@@H](C)/C=C1/C(=O)NC=C(c2ccccc2)C1=O',\n",
              " '*S(*)(=O)=O',\n",
              " '*[CH-]/C(*)=C(\\\\C)C#[O+]',\n",
              " '*CCCN(CC*)c1ccccc1',\n",
              " '*C=CC(*)=C(C#N)C(=O)OC',\n",
              " '*C(=O)O',\n",
              " '*OC',\n",
              " '*CCS(=O)(=O)CC*',\n",
              " '*[C@H](C[C@H](C/C=C(/C)C(=O)OC)OC)OC',\n",
              " '*C(C)(C)C',\n",
              " '*C(=O)C(*)=O',\n",
              " '*O/C([O-])=C(/[N+]#N)c1ccccc1.*c1ccccc1',\n",
              " '*COC/C=C\\\\COC*',\n",
              " '*CN(C)CC#CCN(C)C*',\n",
              " '*O/C([O-])=C(\\\\[N+]#N)c1ccccc1.*c1ccccc1',\n",
              " '*C.*C[C@H](C)CC/C=C/C(=O)C1=C[C@H](C)NC1=O',\n",
              " '*C[C@@H](C)C[C@@H](C)/C=C/C(C)=O',\n",
              " '*/C=C/C.*C',\n",
              " '*C(=O)OC/C(*)=N\\\\C',\n",
              " '*/C=C/C.*C(=O)OC',\n",
              " '*C',\n",
              " '*/C=C/CCCC/C=C/C=C/CCC*',\n",
              " '*C(=O)CCC/C(*)=N\\\\C',\n",
              " '*OC.*[O-]',\n",
              " '*[C@@H](C)[Si](C)(C)C',\n",
              " '*COCC#CC',\n",
              " '*C=CC(*)=C(C#N)C#N',\n",
              " '*/C=C/C[C@@H](O)C/C=C/C=C/C(=O)[C@H](C)[C@@H](O)CCC[C@H](CC)OC(*)=O',\n",
              " '*/C(C)=C/[C@@H]1[C@@H](O)C[C@@H](C)N1C(=O)/C=C/C=C/C(C)=C/[C@H](O)[C@@H](*)O',\n",
              " '*CCCC1=CC(=O)C1',\n",
              " '*/C=C/C',\n",
              " '*[C@@H](O)[C@@H](*)OC(=C)C(=O)O',\n",
              " '*C[C@@H](*)OC=C',\n",
              " '*COC(=O)/C(C)=C\\\\C[C@@H](C[C@@H](*)OC)OC',\n",
              " '*CO',\n",
              " '*=CCCC#N',\n",
              " '*/C=C/C.*[Si](C)(C)C',\n",
              " '*F',\n",
              " '*COC/C=C\\\\COC(=O)C(C)(C)C*',\n",
              " '*CCCC1=CC(=O)CC1',\n",
              " '*C(=N[N+]#N)C(F)=C(*)F.*F',\n",
              " '*C[C@@H]1c2ccccc2CCN1C*',\n",
              " '*/C=C/C.*C(C)(C)C']"
            ]
          },
          "metadata": {},
          "execution_count": 79
        }
      ]
    }
  ]
}